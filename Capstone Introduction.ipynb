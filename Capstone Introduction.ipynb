{
 "cells": [
  {
   "cell_type": "markdown",
   "metadata": {},
   "source": [
    "# Capstone Introduction: Analyzing World Data to Determine Problem Areas for Effective Altruism Initiatives and See Which Cities Offer High Impact Jobs\n",
    "\n",
    "Effective altruism is a philosophy and social movement that uses evidence and reasoning to determine the most effective ways to benefit others. Effective altruism (EA) encourages individuals to consider all causes and actions and to act in the way that brings about the greatest positive impact, based upon their values.\n",
    "\n",
    "In my capstone project, I have chosen to:\n",
    "\n",
    "1) look at the World Development Indicators Database to see which areas need more attention of the EA community, not just organizations but individuals willing to contribute to solving some of these challenges either through donations or working in NGOs in those areas.\n",
    "\n",
    "I'll use Python to study the data and single out 20 poorest countries. I'll also look at immunization data, death rates and health expenditures. I'll use Matplotlib and Folium maps to visualize the data. \n",
    "\n",
    "2) scrape the High impact job board created by 80,000 Hours Initiative, geocode the data and visualize it to see where high impact jobs are available. For this I use Selenium and webdriver. \n",
    "\n",
    "Then I will use Folium map not just to visualize but also to cluster job offers and see which city has more to offer for effective altuist job seeker. \n",
    "\n",
    "Having selected the city with the biggest number of offers, I will use Foursquare API to return the list of venues in the city center. I will also use Foursquare API to see which venues are trending at the moment."
   ]
  },
  {
   "cell_type": "code",
   "execution_count": null,
   "metadata": {},
   "outputs": [],
   "source": []
  }
 ],
 "metadata": {
  "kernelspec": {
   "display_name": "Python 3",
   "language": "python",
   "name": "python3"
  },
  "language_info": {
   "codemirror_mode": {
    "name": "ipython",
    "version": 3
   },
   "file_extension": ".py",
   "mimetype": "text/x-python",
   "name": "python",
   "nbconvert_exporter": "python",
   "pygments_lexer": "ipython3",
   "version": "3.6.4"
  }
 },
 "nbformat": 4,
 "nbformat_minor": 2
}
